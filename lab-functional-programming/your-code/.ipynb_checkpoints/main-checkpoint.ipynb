{
 "cells": [
  {
   "cell_type": "markdown",
   "metadata": {},
   "source": [
    "# Before your start:\n",
    "- Read the README.md file\n",
    "- Comment as much as you can and use the resources in the README.md file\n",
    "- Happy learning!"
   ]
  },
  {
   "cell_type": "code",
   "execution_count": 1,
   "metadata": {},
   "outputs": [],
   "source": [
    "import numpy as np\n",
    "import pandas as pd"
   ]
  },
  {
   "cell_type": "markdown",
   "metadata": {},
   "source": [
    "# Challenge 1 - Iterators, Generators and `yield`. \n",
    "\n",
    "In iterator in Python is an object that represents a stream of data. However, iterators contain a countable number of values. We traverse through the iterator and return one value at a time. All iterators support a `next` function that allows us to traverse through the iterator. We can create an iterator using the `iter` function that comes with the base package of Python. Below is an example of an iterator."
   ]
  },
  {
   "cell_type": "code",
   "execution_count": 2,
   "metadata": {},
   "outputs": [
    {
     "name": "stdout",
     "output_type": "stream",
     "text": [
      "1\n"
     ]
    }
   ],
   "source": [
    "# We first define our iterator:\n",
    "\n",
    "iterator = iter([1,2,3])\n",
    "\n",
    "# We can now iterate through the object using the next function\n",
    "\n",
    "print(next(iterator))"
   ]
  },
  {
   "cell_type": "code",
   "execution_count": 3,
   "metadata": {},
   "outputs": [
    {
     "name": "stdout",
     "output_type": "stream",
     "text": [
      "2\n"
     ]
    }
   ],
   "source": [
    "# We continue to iterate through the iterator.\n",
    "\n",
    "print(next(iterator))"
   ]
  },
  {
   "cell_type": "code",
   "execution_count": 4,
   "metadata": {},
   "outputs": [
    {
     "name": "stdout",
     "output_type": "stream",
     "text": [
      "3\n"
     ]
    }
   ],
   "source": [
    "print(next(iterator))"
   ]
  },
  {
   "cell_type": "code",
   "execution_count": 5,
   "metadata": {},
   "outputs": [
    {
     "ename": "StopIteration",
     "evalue": "",
     "output_type": "error",
     "traceback": [
      "\u001b[1;31m---------------------------------------------------------------------------\u001b[0m",
      "\u001b[1;31mStopIteration\u001b[0m                             Traceback (most recent call last)",
      "\u001b[1;32m<ipython-input-5-91070dc82d50>\u001b[0m in \u001b[0;36m<module>\u001b[1;34m\u001b[0m\n\u001b[0;32m      1\u001b[0m \u001b[1;31m# After we have iterated through all elements, we will get a StopIteration Error\u001b[0m\u001b[1;33m\u001b[0m\u001b[1;33m\u001b[0m\u001b[1;33m\u001b[0m\u001b[0m\n\u001b[0;32m      2\u001b[0m \u001b[1;33m\u001b[0m\u001b[0m\n\u001b[1;32m----> 3\u001b[1;33m \u001b[0mprint\u001b[0m\u001b[1;33m(\u001b[0m\u001b[0mnext\u001b[0m\u001b[1;33m(\u001b[0m\u001b[0miterator\u001b[0m\u001b[1;33m)\u001b[0m\u001b[1;33m)\u001b[0m\u001b[1;33m\u001b[0m\u001b[1;33m\u001b[0m\u001b[0m\n\u001b[0m",
      "\u001b[1;31mStopIteration\u001b[0m: "
     ]
    }
   ],
   "source": [
    "# After we have iterated through all elements, we will get a StopIteration Error\n",
    "\n",
    "print(next(iterator))"
   ]
  },
  {
   "cell_type": "code",
   "execution_count": 6,
   "metadata": {},
   "outputs": [
    {
     "name": "stdout",
     "output_type": "stream",
     "text": [
      "1\n",
      "2\n",
      "3\n"
     ]
    }
   ],
   "source": [
    "# We can also iterate through an iterator using a for loop like this:\n",
    "# Note: we cannot go back directly in an iterator once we have traversed through the elements. \n",
    "# This is why we are redefining the iterator below\n",
    "\n",
    "iterator = iter([1,2,3])\n",
    "\n",
    "for i in iterator:\n",
    "    print(i)"
   ]
  },
  {
   "cell_type": "markdown",
   "metadata": {},
   "source": [
    "In the cell below, write a function that takes an iterator and returns the first element in the iterator and returns the first element in the iterator that is divisible by 2. Assume that all iterators contain only numeric data. If we have not found a single element that is divisible by 2, return zero."
   ]
  },
  {
   "cell_type": "code",
   "execution_count": 41,
   "metadata": {},
   "outputs": [
    {
     "data": {
      "text/plain": [
       "4"
      ]
     },
     "execution_count": 41,
     "metadata": {},
     "output_type": "execute_result"
    }
   ],
   "source": [
    "def divisible2(iterator):\n",
    "    # This function takes an iterable and returns the first element that is divisible by 2 and zero otherwise\n",
    "    # Input: Iterable\n",
    "    # Output: Integer\n",
    "    \n",
    "    # Sample Input: iter([1,2,3])\n",
    "    # Sample Output: 2\n",
    "    \n",
    "    # Your code here:\n",
    "\n",
    "    for i in iterator:\n",
    "        if i%2 == 0:\n",
    "            number_to_be_returned = i\n",
    "            break\n",
    "        else:\n",
    "            number_to_be_returned = 0\n",
    "    return number_to_be_returned\n",
    "\n",
    "divisible2(iter([1,5,3,4]))\n",
    "        \n",
    "            \n",
    "    "
   ]
  },
  {
   "cell_type": "markdown",
   "metadata": {},
   "source": [
    "### Generators\n",
    "\n",
    "It is quite difficult to create your own iterator since you would have to implement a `next` function. Generators are functions that enable us to create iterators. The difference between a function and a generator is that instead of using `return`, we use `yield`. For example, below we have a function that returns an iterator containing the numbers 0 through n:"
   ]
  },
  {
   "cell_type": "code",
   "execution_count": 42,
   "metadata": {},
   "outputs": [],
   "source": [
    "def firstn(n):\n",
    "     number = 0\n",
    "     while number < n:\n",
    "         yield number\n",
    "         number = number + 1"
   ]
  },
  {
   "cell_type": "markdown",
   "metadata": {},
   "source": [
    "If we pass 5 to the function, we will see that we have a iterator containing the numbers 0 through 4."
   ]
  },
  {
   "cell_type": "code",
   "execution_count": 43,
   "metadata": {},
   "outputs": [
    {
     "name": "stdout",
     "output_type": "stream",
     "text": [
      "0\n",
      "1\n",
      "2\n",
      "3\n",
      "4\n"
     ]
    }
   ],
   "source": [
    "iterator = firstn(5)\n",
    "\n",
    "for i in iterator:\n",
    "    print(i)"
   ]
  },
  {
   "cell_type": "markdown",
   "metadata": {},
   "source": [
    "In the cell below, create a generator that takes a number and returns an iterator containing all even numbers between 0 and the number you passed to the generator."
   ]
  },
  {
   "cell_type": "code",
   "execution_count": 49,
   "metadata": {},
   "outputs": [
    {
     "name": "stdout",
     "output_type": "stream",
     "text": [
      "[0, 2, 4, 6]\n"
     ]
    }
   ],
   "source": [
    "def even_iterator(n):\n",
    "    # This function produces an iterator containing all even numbers between 0 and n\n",
    "    # Input: integer\n",
    "    # Output: iterator\n",
    "    \n",
    "    # Sample Input: 5\n",
    "    # Sample Output: iter([0, 2, 4])\n",
    "    \n",
    "    # Your code here:\n",
    "    number = 0\n",
    "    while number < n:\n",
    "        if number%2 == 0:\n",
    "            yield number\n",
    "        number += 1\n",
    "\n",
    "my_iterator = even_iterator(8)\n",
    "print(list(my_iterator))\n",
    "    "
   ]
  },
  {
   "cell_type": "markdown",
   "metadata": {},
   "source": [
    "# Challenge 2 - Applying Functions to DataFrames\n",
    "\n",
    "In this challenge, we will look at how to transform cells or entire columns at once.\n",
    "\n",
    "First, let's load a dataset. We will download the famous Iris classification dataset in the cell below."
   ]
  },
  {
   "cell_type": "code",
   "execution_count": 50,
   "metadata": {},
   "outputs": [],
   "source": [
    "columns = ['sepal_length', 'sepal_width', 'petal_length','petal_width','iris_type']\n",
    "iris = pd.read_csv(\"https://archive.ics.uci.edu/ml/machine-learning-databases/iris/iris.data\", names=columns)"
   ]
  },
  {
   "cell_type": "markdown",
   "metadata": {},
   "source": [
    "Let's look at the dataset using the `head` function."
   ]
  },
  {
   "cell_type": "code",
   "execution_count": 51,
   "metadata": {},
   "outputs": [
    {
     "data": {
      "text/html": [
       "<div>\n",
       "<style scoped>\n",
       "    .dataframe tbody tr th:only-of-type {\n",
       "        vertical-align: middle;\n",
       "    }\n",
       "\n",
       "    .dataframe tbody tr th {\n",
       "        vertical-align: top;\n",
       "    }\n",
       "\n",
       "    .dataframe thead th {\n",
       "        text-align: right;\n",
       "    }\n",
       "</style>\n",
       "<table border=\"1\" class=\"dataframe\">\n",
       "  <thead>\n",
       "    <tr style=\"text-align: right;\">\n",
       "      <th></th>\n",
       "      <th>sepal_length</th>\n",
       "      <th>sepal_width</th>\n",
       "      <th>petal_length</th>\n",
       "      <th>petal_width</th>\n",
       "      <th>iris_type</th>\n",
       "    </tr>\n",
       "  </thead>\n",
       "  <tbody>\n",
       "    <tr>\n",
       "      <td>0</td>\n",
       "      <td>5.1</td>\n",
       "      <td>3.5</td>\n",
       "      <td>1.4</td>\n",
       "      <td>0.2</td>\n",
       "      <td>Iris-setosa</td>\n",
       "    </tr>\n",
       "    <tr>\n",
       "      <td>1</td>\n",
       "      <td>4.9</td>\n",
       "      <td>3.0</td>\n",
       "      <td>1.4</td>\n",
       "      <td>0.2</td>\n",
       "      <td>Iris-setosa</td>\n",
       "    </tr>\n",
       "    <tr>\n",
       "      <td>2</td>\n",
       "      <td>4.7</td>\n",
       "      <td>3.2</td>\n",
       "      <td>1.3</td>\n",
       "      <td>0.2</td>\n",
       "      <td>Iris-setosa</td>\n",
       "    </tr>\n",
       "    <tr>\n",
       "      <td>3</td>\n",
       "      <td>4.6</td>\n",
       "      <td>3.1</td>\n",
       "      <td>1.5</td>\n",
       "      <td>0.2</td>\n",
       "      <td>Iris-setosa</td>\n",
       "    </tr>\n",
       "    <tr>\n",
       "      <td>4</td>\n",
       "      <td>5.0</td>\n",
       "      <td>3.6</td>\n",
       "      <td>1.4</td>\n",
       "      <td>0.2</td>\n",
       "      <td>Iris-setosa</td>\n",
       "    </tr>\n",
       "  </tbody>\n",
       "</table>\n",
       "</div>"
      ],
      "text/plain": [
       "   sepal_length  sepal_width  petal_length  petal_width    iris_type\n",
       "0           5.1          3.5           1.4          0.2  Iris-setosa\n",
       "1           4.9          3.0           1.4          0.2  Iris-setosa\n",
       "2           4.7          3.2           1.3          0.2  Iris-setosa\n",
       "3           4.6          3.1           1.5          0.2  Iris-setosa\n",
       "4           5.0          3.6           1.4          0.2  Iris-setosa"
      ]
     },
     "execution_count": 51,
     "metadata": {},
     "output_type": "execute_result"
    }
   ],
   "source": [
    "# Your code here:\n",
    "iris.head()\n"
   ]
  },
  {
   "cell_type": "markdown",
   "metadata": {},
   "source": [
    "Let's start off by using built-in functions. Try to apply the numpy mean function and describe what happens in the comments of the code."
   ]
  },
  {
   "cell_type": "code",
   "execution_count": 53,
   "metadata": {},
   "outputs": [
    {
     "data": {
      "text/plain": [
       "sepal_length    5.843333\n",
       "sepal_width     3.054000\n",
       "petal_length    3.758667\n",
       "petal_width     1.198667\n",
       "dtype: float64"
      ]
     },
     "execution_count": 53,
     "metadata": {},
     "output_type": "execute_result"
    }
   ],
   "source": [
    "# Your code here:\n",
    "np.mean(iris)\n",
    "\n",
    "# We get the mean of all values in each column\n",
    "\n"
   ]
  },
  {
   "cell_type": "markdown",
   "metadata": {},
   "source": [
    "Next, we'll apply the standard deviation function in numpy (`np.std`). Describe what happened in the comments."
   ]
  },
  {
   "cell_type": "code",
   "execution_count": 54,
   "metadata": {},
   "outputs": [
    {
     "data": {
      "text/plain": [
       "sepal_length    0.825301\n",
       "sepal_width     0.432147\n",
       "petal_length    1.758529\n",
       "petal_width     0.760613\n",
       "dtype: float64"
      ]
     },
     "execution_count": 54,
     "metadata": {},
     "output_type": "execute_result"
    }
   ],
   "source": [
    "# Your code here:\n",
    "np.std(iris)\n",
    "\n",
    "# We get the standard deviation for all values in each column\n"
   ]
  },
  {
   "cell_type": "markdown",
   "metadata": {},
   "source": [
    "The measurements are in centimeters. Let's convert them all to inches. First, we will create a dataframe that contains only the numeric columns. Assign this new dataframe to `iris_numeric`."
   ]
  },
  {
   "cell_type": "code",
   "execution_count": 55,
   "metadata": {},
   "outputs": [
    {
     "name": "stdout",
     "output_type": "stream",
     "text": [
      "     sepal_length  sepal_width  petal_length  petal_width\n",
      "0             5.1          3.5           1.4          0.2\n",
      "1             4.9          3.0           1.4          0.2\n",
      "2             4.7          3.2           1.3          0.2\n",
      "3             4.6          3.1           1.5          0.2\n",
      "4             5.0          3.6           1.4          0.2\n",
      "..            ...          ...           ...          ...\n",
      "145           6.7          3.0           5.2          2.3\n",
      "146           6.3          2.5           5.0          1.9\n",
      "147           6.5          3.0           5.2          2.0\n",
      "148           6.2          3.4           5.4          2.3\n",
      "149           5.9          3.0           5.1          1.8\n",
      "\n",
      "[150 rows x 4 columns]\n"
     ]
    }
   ],
   "source": [
    "# Your code here:\n",
    "iris_numeric = iris.select_dtypes(include='number')\n",
    "print(iris_numeric)\n"
   ]
  },
  {
   "cell_type": "markdown",
   "metadata": {},
   "source": [
    "Next, we will write a function that converts centimeters to inches in the cell below. Recall that 1cm = 0.393701in."
   ]
  },
  {
   "cell_type": "code",
   "execution_count": 57,
   "metadata": {},
   "outputs": [],
   "source": [
    "def cm_to_in(x):\n",
    "    # This function takes in a numeric value in centimeters and converts it to inches\n",
    "    # Input: numeric value\n",
    "    # Output: float\n",
    "    \n",
    "    # Sample Input: 1.0\n",
    "    # Sample Output: 0.393701\n",
    "    \n",
    "    # Your code here:\n",
    "    return 0.393701*x\n",
    "    "
   ]
  },
  {
   "cell_type": "markdown",
   "metadata": {},
   "source": [
    "Now convert all columns in `iris_numeric` to inches in the cell below. We like to think of functional transformations as immutable. Therefore, save the transformed data in a dataframe called `iris_inch`."
   ]
  },
  {
   "cell_type": "code",
   "execution_count": 61,
   "metadata": {},
   "outputs": [
    {
     "name": "stdout",
     "output_type": "stream",
     "text": [
      "     sepal_length  sepal_width  petal_length  petal_width\n",
      "0        2.007875     1.377954      0.551181     0.078740\n",
      "1        1.929135     1.181103      0.551181     0.078740\n",
      "2        1.850395     1.259843      0.511811     0.078740\n",
      "3        1.811025     1.220473      0.590552     0.078740\n",
      "4        1.968505     1.417324      0.551181     0.078740\n",
      "..            ...          ...           ...          ...\n",
      "145      2.637797     1.181103      2.047245     0.905512\n",
      "146      2.480316     0.984253      1.968505     0.748032\n",
      "147      2.559057     1.181103      2.047245     0.787402\n",
      "148      2.440946     1.338583      2.125985     0.905512\n",
      "149      2.322836     1.181103      2.007875     0.708662\n",
      "\n",
      "[150 rows x 4 columns]\n"
     ]
    }
   ],
   "source": [
    "# Your code here:\n",
    "iris_inch = iris_numeric.apply(lambda x: cm_to_in(x))\n",
    "print(iris_inch)\n",
    "\n"
   ]
  },
  {
   "cell_type": "markdown",
   "metadata": {},
   "source": [
    "We have just found that the original measurements were off by a constant. Define the global constant `error` and set it to 2. Write a function that uses the global constant and adds it to each cell in the dataframe. Apply this function to `iris_numeric` and save the result in `iris_constant`."
   ]
  },
  {
   "cell_type": "code",
   "execution_count": 62,
   "metadata": {},
   "outputs": [
    {
     "name": "stdout",
     "output_type": "stream",
     "text": [
      "     sepal_length  sepal_width  petal_length  petal_width\n",
      "0             7.1          5.5           3.4          2.2\n",
      "1             6.9          5.0           3.4          2.2\n",
      "2             6.7          5.2           3.3          2.2\n",
      "3             6.6          5.1           3.5          2.2\n",
      "4             7.0          5.6           3.4          2.2\n",
      "..            ...          ...           ...          ...\n",
      "145           8.7          5.0           7.2          4.3\n",
      "146           8.3          4.5           7.0          3.9\n",
      "147           8.5          5.0           7.2          4.0\n",
      "148           8.2          5.4           7.4          4.3\n",
      "149           7.9          5.0           7.1          3.8\n",
      "\n",
      "[150 rows x 4 columns]\n"
     ]
    }
   ],
   "source": [
    "# Define constant below:\n",
    "error = 2\n",
    "\n",
    "def add_constant(x):\n",
    "    # This function adds a global constant to our input.\n",
    "    # Input: numeric value\n",
    "    # Output: numeric value\n",
    "    \n",
    "    # Your code here:\n",
    "    return x + 2\n",
    "\n",
    "iris_constant = iris_numeric.apply(lambda x: add_constant(x))\n",
    "print(iris_constant)\n",
    "    "
   ]
  },
  {
   "cell_type": "markdown",
   "metadata": {},
   "source": [
    "# Bonus Challenge - Applying Functions to Columns\n",
    "\n",
    "Read more about applying functions to either rows or columns [here](https://pandas.pydata.org/pandas-docs/stable/generated/pandas.DataFrame.apply.html) and write a function that computes the maximum value for each row of `iris_numeric`"
   ]
  },
  {
   "cell_type": "code",
   "execution_count": 90,
   "metadata": {},
   "outputs": [
    {
     "name": "stdout",
     "output_type": "stream",
     "text": [
      "<class 'numpy.ndarray'>\n",
      "[5.1 3.5 1.4 0.2]\n",
      "5.1\n",
      "[4.9 3.  1.4 0.2]\n",
      "4.9\n",
      "[4.7 3.2 1.3 0.2]\n",
      "4.7\n",
      "[4.6 3.1 1.5 0.2]\n",
      "4.6\n",
      "[5.  3.6 1.4 0.2]\n",
      "5.0\n",
      "[5.4 3.9 1.7 0.4]\n",
      "5.4\n",
      "[4.6 3.4 1.4 0.3]\n",
      "4.6\n",
      "[5.  3.4 1.5 0.2]\n",
      "5.0\n",
      "[4.4 2.9 1.4 0.2]\n",
      "4.4\n",
      "[4.9 3.1 1.5 0.1]\n",
      "4.9\n",
      "[5.4 3.7 1.5 0.2]\n",
      "5.4\n",
      "[4.8 3.4 1.6 0.2]\n",
      "4.8\n",
      "[4.8 3.  1.4 0.1]\n",
      "4.8\n",
      "[4.3 3.  1.1 0.1]\n",
      "4.3\n",
      "[5.8 4.  1.2 0.2]\n",
      "5.8\n",
      "[5.7 4.4 1.5 0.4]\n",
      "5.7\n",
      "[5.4 3.9 1.3 0.4]\n",
      "5.4\n",
      "[5.1 3.5 1.4 0.3]\n",
      "5.1\n",
      "[5.7 3.8 1.7 0.3]\n",
      "5.7\n",
      "[5.1 3.8 1.5 0.3]\n",
      "5.1\n",
      "[5.4 3.4 1.7 0.2]\n",
      "5.4\n",
      "[5.1 3.7 1.5 0.4]\n",
      "5.1\n",
      "[4.6 3.6 1.  0.2]\n",
      "4.6\n",
      "[5.1 3.3 1.7 0.5]\n",
      "5.1\n",
      "[4.8 3.4 1.9 0.2]\n",
      "4.8\n",
      "[5.  3.  1.6 0.2]\n",
      "5.0\n",
      "[5.  3.4 1.6 0.4]\n",
      "5.0\n",
      "[5.2 3.5 1.5 0.2]\n",
      "5.2\n",
      "[5.2 3.4 1.4 0.2]\n",
      "5.2\n",
      "[4.7 3.2 1.6 0.2]\n",
      "4.7\n",
      "[4.8 3.1 1.6 0.2]\n",
      "4.8\n",
      "[5.4 3.4 1.5 0.4]\n",
      "5.4\n",
      "[5.2 4.1 1.5 0.1]\n",
      "5.2\n",
      "[5.5 4.2 1.4 0.2]\n",
      "5.5\n",
      "[4.9 3.1 1.5 0.1]\n",
      "4.9\n",
      "[5.  3.2 1.2 0.2]\n",
      "5.0\n",
      "[5.5 3.5 1.3 0.2]\n",
      "5.5\n",
      "[4.9 3.1 1.5 0.1]\n",
      "4.9\n",
      "[4.4 3.  1.3 0.2]\n",
      "4.4\n",
      "[5.1 3.4 1.5 0.2]\n",
      "5.1\n",
      "[5.  3.5 1.3 0.3]\n",
      "5.0\n",
      "[4.5 2.3 1.3 0.3]\n",
      "4.5\n",
      "[4.4 3.2 1.3 0.2]\n",
      "4.4\n",
      "[5.  3.5 1.6 0.6]\n",
      "5.0\n",
      "[5.1 3.8 1.9 0.4]\n",
      "5.1\n",
      "[4.8 3.  1.4 0.3]\n",
      "4.8\n",
      "[5.1 3.8 1.6 0.2]\n",
      "5.1\n",
      "[4.6 3.2 1.4 0.2]\n",
      "4.6\n",
      "[5.3 3.7 1.5 0.2]\n",
      "5.3\n",
      "[5.  3.3 1.4 0.2]\n",
      "5.0\n",
      "[7.  3.2 4.7 1.4]\n",
      "7.0\n",
      "[6.4 3.2 4.5 1.5]\n",
      "6.4\n",
      "[6.9 3.1 4.9 1.5]\n",
      "6.9\n",
      "[5.5 2.3 4.  1.3]\n",
      "5.5\n",
      "[6.5 2.8 4.6 1.5]\n",
      "6.5\n",
      "[5.7 2.8 4.5 1.3]\n",
      "5.7\n",
      "[6.3 3.3 4.7 1.6]\n",
      "6.3\n",
      "[4.9 2.4 3.3 1. ]\n",
      "4.9\n",
      "[6.6 2.9 4.6 1.3]\n",
      "6.6\n",
      "[5.2 2.7 3.9 1.4]\n",
      "5.2\n",
      "[5.  2.  3.5 1. ]\n",
      "5.0\n",
      "[5.9 3.  4.2 1.5]\n",
      "5.9\n",
      "[6.  2.2 4.  1. ]\n",
      "6.0\n",
      "[6.1 2.9 4.7 1.4]\n",
      "6.1\n",
      "[5.6 2.9 3.6 1.3]\n",
      "5.6\n",
      "[6.7 3.1 4.4 1.4]\n",
      "6.7\n",
      "[5.6 3.  4.5 1.5]\n",
      "5.6\n",
      "[5.8 2.7 4.1 1. ]\n",
      "5.8\n",
      "[6.2 2.2 4.5 1.5]\n",
      "6.2\n",
      "[5.6 2.5 3.9 1.1]\n",
      "5.6\n",
      "[5.9 3.2 4.8 1.8]\n",
      "5.9\n",
      "[6.1 2.8 4.  1.3]\n",
      "6.1\n",
      "[6.3 2.5 4.9 1.5]\n",
      "6.3\n",
      "[6.1 2.8 4.7 1.2]\n",
      "6.1\n",
      "[6.4 2.9 4.3 1.3]\n",
      "6.4\n",
      "[6.6 3.  4.4 1.4]\n",
      "6.6\n",
      "[6.8 2.8 4.8 1.4]\n",
      "6.8\n",
      "[6.7 3.  5.  1.7]\n",
      "6.7\n",
      "[6.  2.9 4.5 1.5]\n",
      "6.0\n",
      "[5.7 2.6 3.5 1. ]\n",
      "5.7\n",
      "[5.5 2.4 3.8 1.1]\n",
      "5.5\n",
      "[5.5 2.4 3.7 1. ]\n",
      "5.5\n",
      "[5.8 2.7 3.9 1.2]\n",
      "5.8\n",
      "[6.  2.7 5.1 1.6]\n",
      "6.0\n",
      "[5.4 3.  4.5 1.5]\n",
      "5.4\n",
      "[6.  3.4 4.5 1.6]\n",
      "6.0\n",
      "[6.7 3.1 4.7 1.5]\n",
      "6.7\n",
      "[6.3 2.3 4.4 1.3]\n",
      "6.3\n",
      "[5.6 3.  4.1 1.3]\n",
      "5.6\n",
      "[5.5 2.5 4.  1.3]\n",
      "5.5\n",
      "[5.5 2.6 4.4 1.2]\n",
      "5.5\n",
      "[6.1 3.  4.6 1.4]\n",
      "6.1\n",
      "[5.8 2.6 4.  1.2]\n",
      "5.8\n",
      "[5.  2.3 3.3 1. ]\n",
      "5.0\n",
      "[5.6 2.7 4.2 1.3]\n",
      "5.6\n",
      "[5.7 3.  4.2 1.2]\n",
      "5.7\n",
      "[5.7 2.9 4.2 1.3]\n",
      "5.7\n",
      "[6.2 2.9 4.3 1.3]\n",
      "6.2\n",
      "[5.1 2.5 3.  1.1]\n",
      "5.1\n",
      "[5.7 2.8 4.1 1.3]\n",
      "5.7\n",
      "[6.3 3.3 6.  2.5]\n",
      "6.3\n",
      "[5.8 2.7 5.1 1.9]\n",
      "5.8\n",
      "[7.1 3.  5.9 2.1]\n",
      "7.1\n",
      "[6.3 2.9 5.6 1.8]\n",
      "6.3\n",
      "[6.5 3.  5.8 2.2]\n",
      "6.5\n",
      "[7.6 3.  6.6 2.1]\n",
      "7.6\n",
      "[4.9 2.5 4.5 1.7]\n",
      "4.9\n",
      "[7.3 2.9 6.3 1.8]\n",
      "7.3\n",
      "[6.7 2.5 5.8 1.8]\n",
      "6.7\n",
      "[7.2 3.6 6.1 2.5]\n",
      "7.2\n",
      "[6.5 3.2 5.1 2. ]\n",
      "6.5\n",
      "[6.4 2.7 5.3 1.9]\n",
      "6.4\n",
      "[6.8 3.  5.5 2.1]\n",
      "6.8\n",
      "[5.7 2.5 5.  2. ]\n",
      "5.7\n",
      "[5.8 2.8 5.1 2.4]\n",
      "5.8\n",
      "[6.4 3.2 5.3 2.3]\n",
      "6.4\n",
      "[6.5 3.  5.5 1.8]\n",
      "6.5\n",
      "[7.7 3.8 6.7 2.2]\n",
      "7.7\n",
      "[7.7 2.6 6.9 2.3]\n",
      "7.7\n",
      "[6.  2.2 5.  1.5]\n",
      "6.0\n",
      "[6.9 3.2 5.7 2.3]\n",
      "6.9\n",
      "[5.6 2.8 4.9 2. ]\n",
      "5.6\n",
      "[7.7 2.8 6.7 2. ]\n",
      "7.7\n",
      "[6.3 2.7 4.9 1.8]\n",
      "6.3\n",
      "[6.7 3.3 5.7 2.1]\n",
      "6.7\n",
      "[7.2 3.2 6.  1.8]\n",
      "7.2\n",
      "[6.2 2.8 4.8 1.8]\n",
      "6.2\n",
      "[6.1 3.  4.9 1.8]\n",
      "6.1\n",
      "[6.4 2.8 5.6 2.1]\n",
      "6.4\n",
      "[7.2 3.  5.8 1.6]\n",
      "7.2\n",
      "[7.4 2.8 6.1 1.9]\n",
      "7.4\n",
      "[7.9 3.8 6.4 2. ]\n",
      "7.9\n",
      "[6.4 2.8 5.6 2.2]\n",
      "6.4\n",
      "[6.3 2.8 5.1 1.5]\n",
      "6.3\n",
      "[6.1 2.6 5.6 1.4]\n",
      "6.1\n",
      "[7.7 3.  6.1 2.3]\n",
      "7.7\n",
      "[6.3 3.4 5.6 2.4]\n",
      "6.3\n",
      "[6.4 3.1 5.5 1.8]\n",
      "6.4\n",
      "[6.  3.  4.8 1.8]\n",
      "6.0\n",
      "[6.9 3.1 5.4 2.1]\n",
      "6.9\n",
      "[6.7 3.1 5.6 2.4]\n",
      "6.7\n",
      "[6.9 3.1 5.1 2.3]\n",
      "6.9\n",
      "[5.8 2.7 5.1 1.9]\n",
      "5.8\n",
      "[6.8 3.2 5.9 2.3]\n",
      "6.8\n",
      "[6.7 3.3 5.7 2.5]\n",
      "6.7\n",
      "[6.7 3.  5.2 2.3]\n",
      "6.7\n",
      "[6.3 2.5 5.  1.9]\n",
      "6.3\n",
      "[6.5 3.  5.2 2. ]\n",
      "6.5\n",
      "[6.2 3.4 5.4 2.3]\n",
      "6.2\n",
      "[5.9 3.  5.1 1.8]\n",
      "5.9\n"
     ]
    }
   ],
   "source": [
    "# Your code here:\n",
    "\n",
    "\n",
    "\n",
    "def maxvalue(my_dataframe):\n",
    "    # df.loc[df['Value'].idxmax()]\n",
    "    my_numpy = my_dataframe.to_numpy()\n",
    "    print(type(my_numpy))\n",
    "    for row in my_numpy:\n",
    "        print(row)\n",
    "        print(row.max())\n",
    "\n",
    "maxvalue(iris_numeric)\n",
    "    \n",
    "\n",
    "\n"
   ]
  },
  {
   "cell_type": "markdown",
   "metadata": {},
   "source": [
    "Compute the combined lengths for each row and the combined widths for each row using a function. Assign these values to new columns `total_length` and `total_width`."
   ]
  },
  {
   "cell_type": "code",
   "execution_count": 100,
   "metadata": {},
   "outputs": [
    {
     "name": "stdout",
     "output_type": "stream",
     "text": [
      "     sepal_length  petal_length\n",
      "0             5.1           1.4\n",
      "1             4.9           1.4\n",
      "2             4.7           1.3\n",
      "3             4.6           1.5\n",
      "4             5.0           1.4\n",
      "..            ...           ...\n",
      "145           6.7           5.2\n",
      "146           6.3           5.0\n",
      "147           6.5           5.2\n",
      "148           6.2           5.4\n",
      "149           5.9           5.1\n",
      "\n",
      "[150 rows x 2 columns]\n"
     ]
    }
   ],
   "source": [
    "# Your code here:\n",
    "\n",
    "# print(iris_numeric[\"sepal_length\"], iris_numeric[\"petal_length\"])\n",
    "\n",
    "columns = [iris_numeric[\"sepal_length\"], iris_numeric[\"petal_length\"]]\n",
    "\n",
    "columns_to_add = pd.concat(columns, axis=1)\n",
    "print(columns_to_add)\n",
    "\n",
    "\n",
    "\n",
    "\n"
   ]
  },
  {
   "cell_type": "code",
   "execution_count": null,
   "metadata": {},
   "outputs": [],
   "source": []
  }
 ],
 "metadata": {
  "kernelspec": {
   "display_name": "Python 3",
   "language": "python",
   "name": "python3"
  },
  "language_info": {
   "codemirror_mode": {
    "name": "ipython",
    "version": 3
   },
   "file_extension": ".py",
   "mimetype": "text/x-python",
   "name": "python",
   "nbconvert_exporter": "python",
   "pygments_lexer": "ipython3",
   "version": "3.7.4"
  }
 },
 "nbformat": 4,
 "nbformat_minor": 2
}
